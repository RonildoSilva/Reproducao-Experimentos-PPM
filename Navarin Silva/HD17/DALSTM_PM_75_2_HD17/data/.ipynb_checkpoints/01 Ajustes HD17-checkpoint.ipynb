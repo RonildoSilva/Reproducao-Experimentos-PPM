{
 "cells": [
  {
   "cell_type": "code",
   "execution_count": 25,
   "id": "c19506ad",
   "metadata": {},
   "outputs": [],
   "source": [
    "import pandas as pd"
   ]
  },
  {
   "cell_type": "code",
   "execution_count": 26,
   "id": "155219bb",
   "metadata": {},
   "outputs": [],
   "source": [
    "df = pd.read_csv('Helpdesk2017_anonimyzed_original.csv')"
   ]
  },
  {
   "cell_type": "code",
   "execution_count": 27,
   "id": "1639a74e",
   "metadata": {},
   "outputs": [
    {
     "data": {
      "text/plain": [
       "Index(['Case ID', 'Activity', 'Resource', 'Complete Timestamp',\n",
       "       'Variant index', 'customer', 'product', 'responsible_section',\n",
       "       'seriousness_2', 'service_level', 'service_type', 'support_section',\n",
       "       'workgroup'],\n",
       "      dtype='object')"
      ]
     },
     "execution_count": 27,
     "metadata": {},
     "output_type": "execute_result"
    }
   ],
   "source": [
    "df.columns"
   ]
  },
  {
   "cell_type": "code",
   "execution_count": 28,
   "id": "8ce7d1ed",
   "metadata": {},
   "outputs": [],
   "source": [
    "df['Case ID'] = df['Case ID'].astype('category').cat.codes"
   ]
  },
  {
   "cell_type": "markdown",
   "id": "6e186c70",
   "metadata": {},
   "source": [
    "`Formato: '%Y-%m-%d %H:%M:%S'`"
   ]
  },
  {
   "cell_type": "code",
   "execution_count": 29,
   "id": "4cfbe29c",
   "metadata": {},
   "outputs": [],
   "source": [
    "df['Complete Timestamp'] = pd.to_datetime(df[\"Complete Timestamp\"]).dt.strftime(\"%Y-%m-%d %H:%M:%S\")"
   ]
  },
  {
   "cell_type": "code",
   "execution_count": null,
   "id": "3f4fa5a3",
   "metadata": {},
   "outputs": [],
   "source": []
  },
  {
   "cell_type": "code",
   "execution_count": null,
   "id": "e1924d06",
   "metadata": {},
   "outputs": [],
   "source": []
  },
  {
   "cell_type": "code",
   "execution_count": 30,
   "id": "d597dea7",
   "metadata": {},
   "outputs": [],
   "source": [
    "df = df[['Case ID', 'Activity', 'Complete Timestamp', 'Resource']]"
   ]
  },
  {
   "cell_type": "code",
   "execution_count": 31,
   "id": "8dce0a95",
   "metadata": {},
   "outputs": [],
   "source": [
    "df.to_csv('Helpdesk2017_anonimyzed.csv', index=False)"
   ]
  },
  {
   "cell_type": "code",
   "execution_count": 32,
   "id": "73657b93",
   "metadata": {},
   "outputs": [
    {
     "data": {
      "text/plain": [
       "Index(['Case ID', 'Activity', 'Complete Timestamp', 'Resource'], dtype='object')"
      ]
     },
     "execution_count": 32,
     "metadata": {},
     "output_type": "execute_result"
    }
   ],
   "source": [
    "df.columns"
   ]
  },
  {
   "cell_type": "code",
   "execution_count": null,
   "id": "7c8e421d",
   "metadata": {},
   "outputs": [],
   "source": []
  }
 ],
 "metadata": {
  "kernelspec": {
   "display_name": "Python 3 (ipykernel)",
   "language": "python",
   "name": "python3"
  },
  "language_info": {
   "codemirror_mode": {
    "name": "ipython",
    "version": 3
   },
   "file_extension": ".py",
   "mimetype": "text/x-python",
   "name": "python",
   "nbconvert_exporter": "python",
   "pygments_lexer": "ipython3",
   "version": "3.10.9"
  }
 },
 "nbformat": 4,
 "nbformat_minor": 5
}
