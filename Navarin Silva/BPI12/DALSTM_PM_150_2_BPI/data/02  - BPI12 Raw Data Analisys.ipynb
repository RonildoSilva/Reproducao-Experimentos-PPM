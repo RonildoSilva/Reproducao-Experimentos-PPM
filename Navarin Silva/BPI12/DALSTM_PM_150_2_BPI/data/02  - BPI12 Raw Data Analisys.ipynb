{
 "cells": [
  {
   "cell_type": "code",
   "execution_count": 1,
   "id": "5de83000",
   "metadata": {},
   "outputs": [],
   "source": [
    "import warnings\n",
    "warnings.filterwarnings('ignore')"
   ]
  },
  {
   "cell_type": "code",
   "execution_count": 2,
   "id": "ef18ff8b",
   "metadata": {},
   "outputs": [],
   "source": [
    "import os\n",
    "import pandas as pd\n",
    "import math\n",
    "import numpy as np"
   ]
  },
  {
   "cell_type": "markdown",
   "id": "71598fa7",
   "metadata": {},
   "source": [
    "Get sorted cases id"
   ]
  },
  {
   "cell_type": "code",
   "execution_count": 3,
   "id": "4a63568d",
   "metadata": {},
   "outputs": [],
   "source": [
    "import wget\n",
    "import os.path"
   ]
  },
  {
   "cell_type": "code",
   "execution_count": 18,
   "id": "0bbf1be1",
   "metadata": {},
   "outputs": [],
   "source": [
    "df_final = pd.read_csv('BPI_12_anonimyzed.csv')"
   ]
  },
  {
   "cell_type": "code",
   "execution_count": 19,
   "id": "fff2e84a",
   "metadata": {},
   "outputs": [
    {
     "data": {
      "text/plain": [
       "Index(['Case ID', 'Activity', 'Complete Timestamp', 'Resource',\n",
       "       '(case) AMOUNT_REQ', 'concept:name'],\n",
       "      dtype='object')"
      ]
     },
     "execution_count": 19,
     "metadata": {},
     "output_type": "execute_result"
    }
   ],
   "source": [
    "df_final.columns"
   ]
  },
  {
   "cell_type": "code",
   "execution_count": 20,
   "id": "8e71f71b",
   "metadata": {},
   "outputs": [
    {
     "data": {
      "text/html": [
       "<div>\n",
       "<style scoped>\n",
       "    .dataframe tbody tr th:only-of-type {\n",
       "        vertical-align: middle;\n",
       "    }\n",
       "\n",
       "    .dataframe tbody tr th {\n",
       "        vertical-align: top;\n",
       "    }\n",
       "\n",
       "    .dataframe thead th {\n",
       "        text-align: right;\n",
       "    }\n",
       "</style>\n",
       "<table border=\"1\" class=\"dataframe\">\n",
       "  <thead>\n",
       "    <tr style=\"text-align: right;\">\n",
       "      <th></th>\n",
       "      <th>Case ID</th>\n",
       "      <th>Activity</th>\n",
       "      <th>Complete Timestamp</th>\n",
       "      <th>Resource</th>\n",
       "      <th>(case) AMOUNT_REQ</th>\n",
       "      <th>concept:name</th>\n",
       "    </tr>\n",
       "  </thead>\n",
       "  <tbody>\n",
       "    <tr>\n",
       "      <th>0</th>\n",
       "      <td>1</td>\n",
       "      <td>a1</td>\n",
       "      <td>2011-10-01 11:45:13</td>\n",
       "      <td>NaN</td>\n",
       "      <td>20000</td>\n",
       "      <td>W_Completeren aanvraag</td>\n",
       "    </tr>\n",
       "    <tr>\n",
       "      <th>1</th>\n",
       "      <td>1</td>\n",
       "      <td>a2</td>\n",
       "      <td>2011-10-01 12:17:08</td>\n",
       "      <td>NaN</td>\n",
       "      <td>20000</td>\n",
       "      <td>W_Nabellen offertes</td>\n",
       "    </tr>\n",
       "    <tr>\n",
       "      <th>2</th>\n",
       "      <td>1</td>\n",
       "      <td>a2</td>\n",
       "      <td>2011-10-08 16:32:00</td>\n",
       "      <td>10913.0</td>\n",
       "      <td>20000</td>\n",
       "      <td>W_Nabellen offertes</td>\n",
       "    </tr>\n",
       "    <tr>\n",
       "      <th>3</th>\n",
       "      <td>1</td>\n",
       "      <td>a2</td>\n",
       "      <td>2011-10-10 11:33:05</td>\n",
       "      <td>11049.0</td>\n",
       "      <td>20000</td>\n",
       "      <td>W_Nabellen offertes</td>\n",
       "    </tr>\n",
       "    <tr>\n",
       "      <th>4</th>\n",
       "      <td>1</td>\n",
       "      <td>a3</td>\n",
       "      <td>2011-10-13 10:37:37</td>\n",
       "      <td>10629.0</td>\n",
       "      <td>20000</td>\n",
       "      <td>W_Valideren aanvraag</td>\n",
       "    </tr>\n",
       "  </tbody>\n",
       "</table>\n",
       "</div>"
      ],
      "text/plain": [
       "   Case ID Activity   Complete Timestamp  Resource  (case) AMOUNT_REQ  \\\n",
       "0        1       a1  2011-10-01 11:45:13       NaN              20000   \n",
       "1        1       a2  2011-10-01 12:17:08       NaN              20000   \n",
       "2        1       a2  2011-10-08 16:32:00   10913.0              20000   \n",
       "3        1       a2  2011-10-10 11:33:05   11049.0              20000   \n",
       "4        1       a3  2011-10-13 10:37:37   10629.0              20000   \n",
       "\n",
       "             concept:name  \n",
       "0  W_Completeren aanvraag  \n",
       "1     W_Nabellen offertes  \n",
       "2     W_Nabellen offertes  \n",
       "3     W_Nabellen offertes  \n",
       "4    W_Valideren aanvraag  "
      ]
     },
     "execution_count": 20,
     "metadata": {},
     "output_type": "execute_result"
    }
   ],
   "source": [
    "df_final.head()"
   ]
  },
  {
   "cell_type": "code",
   "execution_count": 21,
   "id": "571a9423",
   "metadata": {},
   "outputs": [
    {
     "data": {
      "text/plain": [
       "0        2011-10-01 11:45:13\n",
       "1        2011-10-01 12:17:08\n",
       "2        2011-10-08 16:32:00\n",
       "3        2011-10-10 11:33:05\n",
       "4        2011-10-13 10:37:37\n",
       "                ...         \n",
       "72408    2012-03-01 09:28:21\n",
       "72409    2012-03-01 09:27:52\n",
       "72410    2012-03-01 20:22:41\n",
       "72411    2012-03-10 12:50:54\n",
       "72412    2012-03-01 09:27:41\n",
       "Name: Complete Timestamp, Length: 72413, dtype: object"
      ]
     },
     "execution_count": 21,
     "metadata": {},
     "output_type": "execute_result"
    }
   ],
   "source": [
    "df_final['Complete Timestamp']"
   ]
  },
  {
   "cell_type": "code",
   "execution_count": 22,
   "id": "2af9d596",
   "metadata": {},
   "outputs": [],
   "source": [
    "sorted_time_cases = df_final.sort_values('Complete Timestamp')['Case ID'].drop_duplicates().values"
   ]
  },
  {
   "cell_type": "code",
   "execution_count": 23,
   "id": "36ef69bd",
   "metadata": {},
   "outputs": [
    {
     "data": {
      "text/plain": [
       "(72413, 6)"
      ]
     },
     "execution_count": 23,
     "metadata": {},
     "output_type": "execute_result"
    }
   ],
   "source": [
    "df_final.shape"
   ]
  },
  {
   "cell_type": "code",
   "execution_count": 24,
   "id": "0196e9c0",
   "metadata": {},
   "outputs": [
    {
     "data": {
      "text/plain": [
       "Index(['Case ID', 'Activity', 'Complete Timestamp', 'Resource',\n",
       "       '(case) AMOUNT_REQ', 'concept:name'],\n",
       "      dtype='object')"
      ]
     },
     "execution_count": 24,
     "metadata": {},
     "output_type": "execute_result"
    }
   ],
   "source": [
    "df_final.columns"
   ]
  },
  {
   "cell_type": "code",
   "execution_count": 25,
   "id": "75bc9c79",
   "metadata": {},
   "outputs": [
    {
     "data": {
      "text/plain": [
       "array(['a1', 'a2', 'a3', 'a4', 'a5', 'a6'], dtype=object)"
      ]
     },
     "execution_count": 25,
     "metadata": {},
     "output_type": "execute_result"
    }
   ],
   "source": [
    "df_final['Activity'].unique()"
   ]
  },
  {
   "cell_type": "code",
   "execution_count": null,
   "id": "193e43dc",
   "metadata": {},
   "outputs": [],
   "source": []
  },
  {
   "cell_type": "markdown",
   "id": "4b979f37",
   "metadata": {},
   "source": [
    "Example:"
   ]
  },
  {
   "cell_type": "code",
   "execution_count": 26,
   "id": "350aa592",
   "metadata": {},
   "outputs": [
    {
     "data": {
      "text/html": [
       "<div>\n",
       "<style scoped>\n",
       "    .dataframe tbody tr th:only-of-type {\n",
       "        vertical-align: middle;\n",
       "    }\n",
       "\n",
       "    .dataframe tbody tr th {\n",
       "        vertical-align: top;\n",
       "    }\n",
       "\n",
       "    .dataframe thead th {\n",
       "        text-align: right;\n",
       "    }\n",
       "</style>\n",
       "<table border=\"1\" class=\"dataframe\">\n",
       "  <thead>\n",
       "    <tr style=\"text-align: right;\">\n",
       "      <th></th>\n",
       "      <th>Case ID</th>\n",
       "      <th>Activity</th>\n",
       "      <th>Complete Timestamp</th>\n",
       "      <th>Resource</th>\n",
       "      <th>(case) AMOUNT_REQ</th>\n",
       "      <th>concept:name</th>\n",
       "    </tr>\n",
       "  </thead>\n",
       "  <tbody>\n",
       "    <tr>\n",
       "      <th>0</th>\n",
       "      <td>1</td>\n",
       "      <td>a1</td>\n",
       "      <td>2011-10-01 11:45:13</td>\n",
       "      <td>NaN</td>\n",
       "      <td>20000</td>\n",
       "      <td>W_Completeren aanvraag</td>\n",
       "    </tr>\n",
       "    <tr>\n",
       "      <th>1</th>\n",
       "      <td>1</td>\n",
       "      <td>a2</td>\n",
       "      <td>2011-10-01 12:17:08</td>\n",
       "      <td>NaN</td>\n",
       "      <td>20000</td>\n",
       "      <td>W_Nabellen offertes</td>\n",
       "    </tr>\n",
       "    <tr>\n",
       "      <th>2</th>\n",
       "      <td>1</td>\n",
       "      <td>a2</td>\n",
       "      <td>2011-10-08 16:32:00</td>\n",
       "      <td>10913.0</td>\n",
       "      <td>20000</td>\n",
       "      <td>W_Nabellen offertes</td>\n",
       "    </tr>\n",
       "    <tr>\n",
       "      <th>3</th>\n",
       "      <td>1</td>\n",
       "      <td>a2</td>\n",
       "      <td>2011-10-10 11:33:05</td>\n",
       "      <td>11049.0</td>\n",
       "      <td>20000</td>\n",
       "      <td>W_Nabellen offertes</td>\n",
       "    </tr>\n",
       "    <tr>\n",
       "      <th>4</th>\n",
       "      <td>1</td>\n",
       "      <td>a3</td>\n",
       "      <td>2011-10-13 10:37:37</td>\n",
       "      <td>10629.0</td>\n",
       "      <td>20000</td>\n",
       "      <td>W_Valideren aanvraag</td>\n",
       "    </tr>\n",
       "    <tr>\n",
       "      <th>...</th>\n",
       "      <td>...</td>\n",
       "      <td>...</td>\n",
       "      <td>...</td>\n",
       "      <td>...</td>\n",
       "      <td>...</td>\n",
       "      <td>...</td>\n",
       "    </tr>\n",
       "    <tr>\n",
       "      <th>72408</th>\n",
       "      <td>9656</td>\n",
       "      <td>a4</td>\n",
       "      <td>2012-03-01 09:28:21</td>\n",
       "      <td>11169.0</td>\n",
       "      <td>20000</td>\n",
       "      <td>W_Afhandelen leads</td>\n",
       "    </tr>\n",
       "    <tr>\n",
       "      <th>72409</th>\n",
       "      <td>9657</td>\n",
       "      <td>a4</td>\n",
       "      <td>2012-03-01 09:27:52</td>\n",
       "      <td>11169.0</td>\n",
       "      <td>8500</td>\n",
       "      <td>W_Afhandelen leads</td>\n",
       "    </tr>\n",
       "    <tr>\n",
       "      <th>72410</th>\n",
       "      <td>9657</td>\n",
       "      <td>a1</td>\n",
       "      <td>2012-03-01 20:22:41</td>\n",
       "      <td>10933.0</td>\n",
       "      <td>8500</td>\n",
       "      <td>W_Completeren aanvraag</td>\n",
       "    </tr>\n",
       "    <tr>\n",
       "      <th>72411</th>\n",
       "      <td>9657</td>\n",
       "      <td>a2</td>\n",
       "      <td>2012-03-10 12:50:54</td>\n",
       "      <td>11119.0</td>\n",
       "      <td>8500</td>\n",
       "      <td>W_Nabellen offertes</td>\n",
       "    </tr>\n",
       "    <tr>\n",
       "      <th>72412</th>\n",
       "      <td>9658</td>\n",
       "      <td>a4</td>\n",
       "      <td>2012-03-01 09:27:41</td>\n",
       "      <td>11169.0</td>\n",
       "      <td>15000</td>\n",
       "      <td>W_Afhandelen leads</td>\n",
       "    </tr>\n",
       "  </tbody>\n",
       "</table>\n",
       "<p>72413 rows × 6 columns</p>\n",
       "</div>"
      ],
      "text/plain": [
       "       Case ID Activity   Complete Timestamp  Resource  (case) AMOUNT_REQ  \\\n",
       "0            1       a1  2011-10-01 11:45:13       NaN              20000   \n",
       "1            1       a2  2011-10-01 12:17:08       NaN              20000   \n",
       "2            1       a2  2011-10-08 16:32:00   10913.0              20000   \n",
       "3            1       a2  2011-10-10 11:33:05   11049.0              20000   \n",
       "4            1       a3  2011-10-13 10:37:37   10629.0              20000   \n",
       "...        ...      ...                  ...       ...                ...   \n",
       "72408     9656       a4  2012-03-01 09:28:21   11169.0              20000   \n",
       "72409     9657       a4  2012-03-01 09:27:52   11169.0               8500   \n",
       "72410     9657       a1  2012-03-01 20:22:41   10933.0               8500   \n",
       "72411     9657       a2  2012-03-10 12:50:54   11119.0               8500   \n",
       "72412     9658       a4  2012-03-01 09:27:41   11169.0              15000   \n",
       "\n",
       "                 concept:name  \n",
       "0      W_Completeren aanvraag  \n",
       "1         W_Nabellen offertes  \n",
       "2         W_Nabellen offertes  \n",
       "3         W_Nabellen offertes  \n",
       "4        W_Valideren aanvraag  \n",
       "...                       ...  \n",
       "72408      W_Afhandelen leads  \n",
       "72409      W_Afhandelen leads  \n",
       "72410  W_Completeren aanvraag  \n",
       "72411     W_Nabellen offertes  \n",
       "72412      W_Afhandelen leads  \n",
       "\n",
       "[72413 rows x 6 columns]"
      ]
     },
     "execution_count": 26,
     "metadata": {},
     "output_type": "execute_result"
    }
   ],
   "source": [
    "df_final"
   ]
  },
  {
   "cell_type": "code",
   "execution_count": 27,
   "id": "5efacce9",
   "metadata": {},
   "outputs": [],
   "source": [
    "number_cases = len(df_final['Case ID'].unique())"
   ]
  },
  {
   "cell_type": "code",
   "execution_count": 28,
   "id": "a7dd81dd",
   "metadata": {},
   "outputs": [
    {
     "data": {
      "text/plain": [
       "9658"
      ]
     },
     "execution_count": 28,
     "metadata": {},
     "output_type": "execute_result"
    }
   ],
   "source": [
    "number_cases"
   ]
  },
  {
   "cell_type": "markdown",
   "id": "20b59ece",
   "metadata": {},
   "source": [
    "Spliting data (train, test, validation)"
   ]
  },
  {
   "cell_type": "code",
   "execution_count": 29,
   "id": "c70ad54f",
   "metadata": {},
   "outputs": [],
   "source": [
    "from sklearn.model_selection import train_test_split\n",
    "\n",
    "train_cases, test_cases  = train_test_split(sorted_time_cases, test_size=0.4, \n",
    "                                            shuffle=False, \n",
    "                                            random_state=42\n",
    "                                           )\n",
    "\n",
    "test_cases, val_cases  = train_test_split(test_cases, test_size=0.5, \n",
    "                                            shuffle=False, \n",
    "                                            random_state=42\n",
    "                                           )"
   ]
  },
  {
   "cell_type": "code",
   "execution_count": 30,
   "id": "714f2ec7",
   "metadata": {},
   "outputs": [
    {
     "data": {
      "text/plain": [
       "(5794, 1932, 1932)"
      ]
     },
     "execution_count": 30,
     "metadata": {},
     "output_type": "execute_result"
    }
   ],
   "source": [
    "len(train_cases), len(test_cases), len(val_cases)"
   ]
  },
  {
   "cell_type": "code",
   "execution_count": 31,
   "id": "27f42c8a",
   "metadata": {},
   "outputs": [
    {
     "data": {
      "text/plain": [
       "0.5999171671153448"
      ]
     },
     "execution_count": 31,
     "metadata": {},
     "output_type": "execute_result"
    }
   ],
   "source": [
    "len(train_cases) / number_cases"
   ]
  },
  {
   "cell_type": "markdown",
   "id": "cbc79acb",
   "metadata": {},
   "source": [
    "Dataframes creation"
   ]
  },
  {
   "cell_type": "code",
   "execution_count": 32,
   "id": "02f36b57",
   "metadata": {},
   "outputs": [],
   "source": [
    "df_train = df_final[df_final['Case ID'].isin(train_cases)].reset_index().drop(['index'], axis=1)\n",
    "df_test = df_final[df_final['Case ID'].isin(test_cases)].reset_index().drop(['index'], axis=1)\n",
    "df_val = df_final[df_final['Case ID'].isin(val_cases)].reset_index().drop(['index'], axis=1)"
   ]
  },
  {
   "cell_type": "code",
   "execution_count": 33,
   "id": "258ef12d",
   "metadata": {},
   "outputs": [
    {
     "data": {
      "text/plain": [
       "(43999, 6)"
      ]
     },
     "execution_count": 33,
     "metadata": {},
     "output_type": "execute_result"
    }
   ],
   "source": [
    "df_train.shape"
   ]
  },
  {
   "cell_type": "markdown",
   "id": "90332c6a",
   "metadata": {},
   "source": [
    "Overriding cases checking"
   ]
  },
  {
   "cell_type": "code",
   "execution_count": 34,
   "id": "4d4e8f67",
   "metadata": {},
   "outputs": [
    {
     "name": "stdout",
     "output_type": "stream",
     "text": [
      "set() set() set()\n"
     ]
    }
   ],
   "source": [
    "print(\n",
    "    set(test_cases).intersection(set(train_cases)),\n",
    "    set(test_cases).intersection(set(val_cases)),\n",
    "    set(train_cases).intersection(set(val_cases))\n",
    ")"
   ]
  },
  {
   "cell_type": "code",
   "execution_count": 35,
   "id": "47663d71",
   "metadata": {},
   "outputs": [],
   "source": [
    "df_sorted = pd.concat([df_train, df_val, df_test])"
   ]
  },
  {
   "cell_type": "code",
   "execution_count": 36,
   "id": "66ccc2f5",
   "metadata": {},
   "outputs": [
    {
     "data": {
      "text/html": [
       "<div>\n",
       "<style scoped>\n",
       "    .dataframe tbody tr th:only-of-type {\n",
       "        vertical-align: middle;\n",
       "    }\n",
       "\n",
       "    .dataframe tbody tr th {\n",
       "        vertical-align: top;\n",
       "    }\n",
       "\n",
       "    .dataframe thead th {\n",
       "        text-align: right;\n",
       "    }\n",
       "</style>\n",
       "<table border=\"1\" class=\"dataframe\">\n",
       "  <thead>\n",
       "    <tr style=\"text-align: right;\">\n",
       "      <th></th>\n",
       "      <th>Case ID</th>\n",
       "      <th>Activity</th>\n",
       "      <th>Complete Timestamp</th>\n",
       "      <th>Resource</th>\n",
       "      <th>(case) AMOUNT_REQ</th>\n",
       "      <th>concept:name</th>\n",
       "    </tr>\n",
       "  </thead>\n",
       "  <tbody>\n",
       "    <tr>\n",
       "      <th>0</th>\n",
       "      <td>1</td>\n",
       "      <td>a1</td>\n",
       "      <td>2011-10-01 11:45:13</td>\n",
       "      <td>NaN</td>\n",
       "      <td>20000</td>\n",
       "      <td>W_Completeren aanvraag</td>\n",
       "    </tr>\n",
       "    <tr>\n",
       "      <th>1</th>\n",
       "      <td>1</td>\n",
       "      <td>a2</td>\n",
       "      <td>2011-10-01 12:17:08</td>\n",
       "      <td>NaN</td>\n",
       "      <td>20000</td>\n",
       "      <td>W_Nabellen offertes</td>\n",
       "    </tr>\n",
       "    <tr>\n",
       "      <th>2</th>\n",
       "      <td>1</td>\n",
       "      <td>a2</td>\n",
       "      <td>2011-10-08 16:32:00</td>\n",
       "      <td>10913.0</td>\n",
       "      <td>20000</td>\n",
       "      <td>W_Nabellen offertes</td>\n",
       "    </tr>\n",
       "    <tr>\n",
       "      <th>3</th>\n",
       "      <td>1</td>\n",
       "      <td>a2</td>\n",
       "      <td>2011-10-10 11:33:05</td>\n",
       "      <td>11049.0</td>\n",
       "      <td>20000</td>\n",
       "      <td>W_Nabellen offertes</td>\n",
       "    </tr>\n",
       "    <tr>\n",
       "      <th>4</th>\n",
       "      <td>1</td>\n",
       "      <td>a3</td>\n",
       "      <td>2011-10-13 10:37:37</td>\n",
       "      <td>10629.0</td>\n",
       "      <td>20000</td>\n",
       "      <td>W_Valideren aanvraag</td>\n",
       "    </tr>\n",
       "  </tbody>\n",
       "</table>\n",
       "</div>"
      ],
      "text/plain": [
       "   Case ID Activity   Complete Timestamp  Resource  (case) AMOUNT_REQ  \\\n",
       "0        1       a1  2011-10-01 11:45:13       NaN              20000   \n",
       "1        1       a2  2011-10-01 12:17:08       NaN              20000   \n",
       "2        1       a2  2011-10-08 16:32:00   10913.0              20000   \n",
       "3        1       a2  2011-10-10 11:33:05   11049.0              20000   \n",
       "4        1       a3  2011-10-13 10:37:37   10629.0              20000   \n",
       "\n",
       "             concept:name  \n",
       "0  W_Completeren aanvraag  \n",
       "1     W_Nabellen offertes  \n",
       "2     W_Nabellen offertes  \n",
       "3     W_Nabellen offertes  \n",
       "4    W_Valideren aanvraag  "
      ]
     },
     "execution_count": 36,
     "metadata": {},
     "output_type": "execute_result"
    }
   ],
   "source": [
    "df_sorted.head()"
   ]
  },
  {
   "cell_type": "code",
   "execution_count": 37,
   "id": "e217918a",
   "metadata": {},
   "outputs": [],
   "source": [
    "df_sorted.to_csv('BPI_12_anonimyzed_sorted.csv', index=False)"
   ]
  },
  {
   "cell_type": "code",
   "execution_count": null,
   "id": "a9926e34",
   "metadata": {
    "scrolled": true
   },
   "outputs": [],
   "source": []
  }
 ],
 "metadata": {
  "kernelspec": {
   "display_name": "Python 3 (ipykernel)",
   "language": "python",
   "name": "python3"
  },
  "language_info": {
   "codemirror_mode": {
    "name": "ipython",
    "version": 3
   },
   "file_extension": ".py",
   "mimetype": "text/x-python",
   "name": "python",
   "nbconvert_exporter": "python",
   "pygments_lexer": "ipython3",
   "version": "3.10.9"
  }
 },
 "nbformat": 4,
 "nbformat_minor": 5
}
