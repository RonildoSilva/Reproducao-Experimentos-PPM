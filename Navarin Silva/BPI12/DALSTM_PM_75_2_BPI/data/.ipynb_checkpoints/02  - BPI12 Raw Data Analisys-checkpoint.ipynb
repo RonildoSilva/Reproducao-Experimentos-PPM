{
 "cells": [
  {
   "cell_type": "code",
   "execution_count": 5,
   "id": "5de83000",
   "metadata": {},
   "outputs": [],
   "source": [
    "import warnings\n",
    "warnings.filterwarnings('ignore')"
   ]
  },
  {
   "cell_type": "code",
   "execution_count": 6,
   "id": "ef18ff8b",
   "metadata": {},
   "outputs": [],
   "source": [
    "import os\n",
    "import pandas as pd\n",
    "import math\n",
    "import numpy as np"
   ]
  },
  {
   "cell_type": "markdown",
   "id": "71598fa7",
   "metadata": {},
   "source": [
    "Get sorted cases id"
   ]
  },
  {
   "cell_type": "code",
   "execution_count": 7,
   "id": "4a63568d",
   "metadata": {},
   "outputs": [],
   "source": [
    "import wget\n",
    "import os.path"
   ]
  },
  {
   "cell_type": "code",
   "execution_count": 8,
   "id": "0bbf1be1",
   "metadata": {},
   "outputs": [],
   "source": [
    "df_final = pd.read_csv('Helpdesk2017_anonimyzed.csv')"
   ]
  },
  {
   "cell_type": "code",
   "execution_count": 9,
   "id": "fd7eeca2",
   "metadata": {},
   "outputs": [
    {
     "data": {
      "text/plain": [
       "Index(['Case ID', 'Activity', 'Resource', 'Complete Timestamp',\n",
       "       'Variant index', 'customer', 'product', 'responsible_section',\n",
       "       'seriousness_2', 'service_level', 'service_type', 'support_section',\n",
       "       'workgroup'],\n",
       "      dtype='object')"
      ]
     },
     "execution_count": 9,
     "metadata": {},
     "output_type": "execute_result"
    }
   ],
   "source": [
    "df_final.columns"
   ]
  },
  {
   "cell_type": "code",
   "execution_count": 10,
   "id": "18ff2673",
   "metadata": {},
   "outputs": [],
   "source": [
    "sorted_time_cases = df_final.sort_values('Complete Timestamp')['Case ID'].drop_duplicates().values"
   ]
  },
  {
   "cell_type": "code",
   "execution_count": 11,
   "id": "36ef69bd",
   "metadata": {},
   "outputs": [
    {
     "data": {
      "text/plain": [
       "(21348, 13)"
      ]
     },
     "execution_count": 11,
     "metadata": {},
     "output_type": "execute_result"
    }
   ],
   "source": [
    "df_final.shape"
   ]
  },
  {
   "cell_type": "code",
   "execution_count": 12,
   "id": "0196e9c0",
   "metadata": {},
   "outputs": [
    {
     "data": {
      "text/plain": [
       "Index(['Case ID', 'Activity', 'Resource', 'Complete Timestamp',\n",
       "       'Variant index', 'customer', 'product', 'responsible_section',\n",
       "       'seriousness_2', 'service_level', 'service_type', 'support_section',\n",
       "       'workgroup'],\n",
       "      dtype='object')"
      ]
     },
     "execution_count": 12,
     "metadata": {},
     "output_type": "execute_result"
    }
   ],
   "source": [
    "df_final.columns"
   ]
  },
  {
   "cell_type": "code",
   "execution_count": 13,
   "id": "065a0be4",
   "metadata": {},
   "outputs": [
    {
     "data": {
      "text/plain": [
       "array(['Assign seriousness', 'Take in charge ticket', 'Resolve ticket',\n",
       "       'Closed', 'Insert ticket', 'Wait', 'Create SW anomaly',\n",
       "       'Require upgrade', 'VERIFIED', 'DUPLICATE', 'Resolve SW anomaly',\n",
       "       'Schedule intervention', 'RESOLVED', 'INVALID'], dtype=object)"
      ]
     },
     "execution_count": 13,
     "metadata": {},
     "output_type": "execute_result"
    }
   ],
   "source": [
    "df_final['Activity'].unique()"
   ]
  },
  {
   "cell_type": "markdown",
   "id": "dabcad43",
   "metadata": {},
   "source": [
    "Filter for `Closed` process"
   ]
  },
  {
   "cell_type": "code",
   "execution_count": 14,
   "id": "193e43dc",
   "metadata": {},
   "outputs": [],
   "source": [
    "just_closed = True\n",
    "\n",
    "if(just_closed):\n",
    "    closed_cases = []\n",
    "\n",
    "    for name, group in df_final.groupby('Case ID'):\n",
    "        last_step = group.tail(1)['Activity'].values[0]\n",
    "        if(last_step == 'Closed'):\n",
    "            closed_cases.append(group['Case ID'].values[0])\n",
    "\n",
    "    df_final = df_final[df_final['Case ID'].isin(closed_cases)]     "
   ]
  },
  {
   "cell_type": "markdown",
   "id": "4b979f37",
   "metadata": {},
   "source": [
    "Example:"
   ]
  },
  {
   "cell_type": "code",
   "execution_count": 15,
   "id": "350aa592",
   "metadata": {},
   "outputs": [
    {
     "data": {
      "text/html": [
       "<div>\n",
       "<style scoped>\n",
       "    .dataframe tbody tr th:only-of-type {\n",
       "        vertical-align: middle;\n",
       "    }\n",
       "\n",
       "    .dataframe tbody tr th {\n",
       "        vertical-align: top;\n",
       "    }\n",
       "\n",
       "    .dataframe thead th {\n",
       "        text-align: right;\n",
       "    }\n",
       "</style>\n",
       "<table border=\"1\" class=\"dataframe\">\n",
       "  <thead>\n",
       "    <tr style=\"text-align: right;\">\n",
       "      <th></th>\n",
       "      <th>Case ID</th>\n",
       "      <th>Activity</th>\n",
       "      <th>Complete Timestamp</th>\n",
       "    </tr>\n",
       "  </thead>\n",
       "  <tbody>\n",
       "    <tr>\n",
       "      <th>0</th>\n",
       "      <td>Case 1</td>\n",
       "      <td>Assign seriousness</td>\n",
       "      <td>2012/10/09 14:50:17.000</td>\n",
       "    </tr>\n",
       "    <tr>\n",
       "      <th>1</th>\n",
       "      <td>Case 1</td>\n",
       "      <td>Take in charge ticket</td>\n",
       "      <td>2012/10/09 14:51:01.000</td>\n",
       "    </tr>\n",
       "    <tr>\n",
       "      <th>2</th>\n",
       "      <td>Case 1</td>\n",
       "      <td>Take in charge ticket</td>\n",
       "      <td>2012/10/12 15:02:56.000</td>\n",
       "    </tr>\n",
       "    <tr>\n",
       "      <th>3</th>\n",
       "      <td>Case 1</td>\n",
       "      <td>Resolve ticket</td>\n",
       "      <td>2012/10/25 11:54:26.000</td>\n",
       "    </tr>\n",
       "    <tr>\n",
       "      <th>4</th>\n",
       "      <td>Case 1</td>\n",
       "      <td>Closed</td>\n",
       "      <td>2012/11/09 12:54:39.000</td>\n",
       "    </tr>\n",
       "    <tr>\n",
       "      <th>5</th>\n",
       "      <td>Case 2</td>\n",
       "      <td>Assign seriousness</td>\n",
       "      <td>2012/04/03 08:55:38.000</td>\n",
       "    </tr>\n",
       "    <tr>\n",
       "      <th>6</th>\n",
       "      <td>Case 2</td>\n",
       "      <td>Take in charge ticket</td>\n",
       "      <td>2012/04/03 08:55:53.000</td>\n",
       "    </tr>\n",
       "    <tr>\n",
       "      <th>7</th>\n",
       "      <td>Case 2</td>\n",
       "      <td>Resolve ticket</td>\n",
       "      <td>2012/04/05 09:15:52.000</td>\n",
       "    </tr>\n",
       "    <tr>\n",
       "      <th>8</th>\n",
       "      <td>Case 2</td>\n",
       "      <td>Closed</td>\n",
       "      <td>2012/05/19 09:00:28.000</td>\n",
       "    </tr>\n",
       "  </tbody>\n",
       "</table>\n",
       "</div>"
      ],
      "text/plain": [
       "  Case ID               Activity       Complete Timestamp\n",
       "0  Case 1     Assign seriousness  2012/10/09 14:50:17.000\n",
       "1  Case 1  Take in charge ticket  2012/10/09 14:51:01.000\n",
       "2  Case 1  Take in charge ticket  2012/10/12 15:02:56.000\n",
       "3  Case 1         Resolve ticket  2012/10/25 11:54:26.000\n",
       "4  Case 1                 Closed  2012/11/09 12:54:39.000\n",
       "5  Case 2     Assign seriousness  2012/04/03 08:55:38.000\n",
       "6  Case 2  Take in charge ticket  2012/04/03 08:55:53.000\n",
       "7  Case 2         Resolve ticket  2012/04/05 09:15:52.000\n",
       "8  Case 2                 Closed  2012/05/19 09:00:28.000"
      ]
     },
     "execution_count": 15,
     "metadata": {},
     "output_type": "execute_result"
    }
   ],
   "source": [
    "df_final[['Case ID', 'Activity', 'Complete Timestamp']].head(9)"
   ]
  },
  {
   "cell_type": "markdown",
   "id": "20b59ece",
   "metadata": {},
   "source": [
    "Spliting data (train, test, validation)"
   ]
  },
  {
   "cell_type": "code",
   "execution_count": 16,
   "id": "c70ad54f",
   "metadata": {},
   "outputs": [],
   "source": [
    "from sklearn.model_selection import train_test_split\n",
    "\n",
    "train_cases, test_cases  = train_test_split(sorted_time_cases, test_size=0.4, \n",
    "                                            shuffle=False, \n",
    "                                            random_state=42\n",
    "                                           )\n",
    "\n",
    "test_cases, val_cases  = train_test_split(test_cases, test_size=0.5, \n",
    "                                            shuffle=False, \n",
    "                                            random_state=42\n",
    "                                           )"
   ]
  },
  {
   "cell_type": "code",
   "execution_count": 17,
   "id": "714f2ec7",
   "metadata": {},
   "outputs": [
    {
     "data": {
      "text/plain": [
       "(2748, 916, 916)"
      ]
     },
     "execution_count": 17,
     "metadata": {},
     "output_type": "execute_result"
    }
   ],
   "source": [
    "len(train_cases), len(test_cases), len(val_cases)"
   ]
  },
  {
   "cell_type": "markdown",
   "id": "cbc79acb",
   "metadata": {},
   "source": [
    "Dataframes creation"
   ]
  },
  {
   "cell_type": "code",
   "execution_count": 87,
   "id": "02f36b57",
   "metadata": {},
   "outputs": [],
   "source": [
    "df_train = df_final[df_final['Case ID'].isin(train_cases)]\n",
    "df_test = df_final[df_final['Case ID'].isin(test_cases)]\n",
    "df_val = df_final[df_final['Case ID'].isin(val_cases)]"
   ]
  },
  {
   "cell_type": "markdown",
   "id": "90332c6a",
   "metadata": {},
   "source": [
    "Overriding cases checking"
   ]
  },
  {
   "cell_type": "code",
   "execution_count": 88,
   "id": "4d4e8f67",
   "metadata": {},
   "outputs": [
    {
     "name": "stdout",
     "output_type": "stream",
     "text": [
      "set() set() set()\n"
     ]
    }
   ],
   "source": [
    "print(\n",
    "    set(test_cases).intersection(set(train_cases)),\n",
    "    set(test_cases).intersection(set(val_cases)),\n",
    "    set(train_cases).intersection(set(val_cases))\n",
    ")"
   ]
  },
  {
   "cell_type": "markdown",
   "id": "345ccaad",
   "metadata": {},
   "source": [
    "Statistical analisys"
   ]
  },
  {
   "cell_type": "code",
   "execution_count": 89,
   "id": "5cb48084",
   "metadata": {},
   "outputs": [
    {
     "data": {
      "image/png": "[encoded data removed]",
      "text/plain": [
       "<Figure size 1296x216 with 3 Axes>"
      ]
     },
     "metadata": {
      "needs_background": "light"
     },
     "output_type": "display_data"
    }
   ],
   "source": [
    "import matplotlib.pyplot as plt\n",
    "import seaborn as sns\n",
    "\n",
    "fig, axs = plt.subplots(ncols=3)\n",
    "fig.set_size_inches(18, 3)\n",
    "\n",
    "sns.set_palette(sns.color_palette('Paired'))\n",
    "sns.countplot(df_train['Activity'], \n",
    "              ax=axs[0], \n",
    "              order = df_train['Activity'].value_counts().index).set(\n",
    "    title='Activities in Test Set', \n",
    "    xlabel='Activity name', \n",
    "    ylabel='Quantity')\n",
    "\n",
    "axs[0].set_xticklabels(axs[0].get_xticklabels(), rotation = 90, size = 10)\n",
    "\n",
    "\n",
    "sns.countplot(df_val['Activity'], \n",
    "              ax=axs[1],\n",
    "              order = df_val['Activity'].value_counts().index).set(\n",
    "    title='Activities in Validation Set', \n",
    "    xlabel='Activity name',\n",
    "    ylabel='Quantity')\n",
    "\n",
    "axs[1].set_xticklabels(axs[1].get_xticklabels(), rotation = 90, size = 10)\n",
    "\n",
    "\n",
    "sns.countplot(df_test['Activity'], \n",
    "              ax=axs[2],\n",
    "              order = df_test['Activity'].value_counts().index).set(\n",
    "    title='Activities in Test Set', \n",
    "    xlabel='Activity name', \n",
    "    ylabel='Quantity')\n",
    "\n",
    "axs[2].set_xticklabels(axs[2].get_xticklabels(), rotation = 90, size = 10)\n",
    "\n",
    "plt.savefig('contagem_activities.pdf', bbox_inches='tight')  \n",
    "plt.show()"
   ]
  },
  {
   "cell_type": "code",
   "execution_count": 90,
   "id": "8db7f1e2",
   "metadata": {},
   "outputs": [],
   "source": [
    "data_std_mean = [\n",
    "    ['Train', df_train['Time to conclusion'].std().round(4), df_train['Time to conclusion'].mean().round(4)],\n",
    "    ['Validation', df_val['Time to conclusion'].std().round(4), df_val['Time to conclusion'].mean().round(4)],\n",
    "    ['Test', df_test['Time to conclusion'].std().round(4), df_test['Time to conclusion'].mean().round(4)]\n",
    "]"
   ]
  },
  {
   "cell_type": "code",
   "execution_count": 91,
   "id": "d1b741a3",
   "metadata": {},
   "outputs": [
    {
     "data": {
      "text/html": [
       "<div>\n",
       "<style scoped>\n",
       "    .dataframe tbody tr th:only-of-type {\n",
       "        vertical-align: middle;\n",
       "    }\n",
       "\n",
       "    .dataframe tbody tr th {\n",
       "        vertical-align: top;\n",
       "    }\n",
       "\n",
       "    .dataframe thead th {\n",
       "        text-align: right;\n",
       "    }\n",
       "</style>\n",
       "<table border=\"1\" class=\"dataframe\">\n",
       "  <thead>\n",
       "    <tr style=\"text-align: right;\">\n",
       "      <th></th>\n",
       "      <th>Set</th>\n",
       "      <th>Std. Deviation</th>\n",
       "      <th>Mean</th>\n",
       "    </tr>\n",
       "  </thead>\n",
       "  <tbody>\n",
       "    <tr>\n",
       "      <th>0</th>\n",
       "      <td>Train</td>\n",
       "      <td>17.8038</td>\n",
       "      <td>28.6293</td>\n",
       "    </tr>\n",
       "    <tr>\n",
       "      <th>1</th>\n",
       "      <td>Validation</td>\n",
       "      <td>16.1598</td>\n",
       "      <td>23.0178</td>\n",
       "    </tr>\n",
       "    <tr>\n",
       "      <th>2</th>\n",
       "      <td>Test</td>\n",
       "      <td>18.1837</td>\n",
       "      <td>28.9307</td>\n",
       "    </tr>\n",
       "  </tbody>\n",
       "</table>\n",
       "</div>"
      ],
      "text/plain": [
       "          Set  Std. Deviation     Mean\n",
       "0       Train         17.8038  28.6293\n",
       "1  Validation         16.1598  23.0178\n",
       "2        Test         18.1837  28.9307"
      ]
     },
     "execution_count": 91,
     "metadata": {},
     "output_type": "execute_result"
    }
   ],
   "source": [
    "pd.DataFrame(data_std_mean, columns = ['Set', 'Std. Deviation', 'Mean'])"
   ]
  },
  {
   "cell_type": "code",
   "execution_count": null,
   "id": "60c0a20c",
   "metadata": {},
   "outputs": [],
   "source": []
  }
 ],
 "metadata": {
  "kernelspec": {
   "display_name": "Python 3 (ipykernel)",
   "language": "python",
   "name": "python3"
  },
  "language_info": {
   "codemirror_mode": {
    "name": "ipython",
    "version": 3
   },
   "file_extension": ".py",
   "mimetype": "text/x-python",
   "name": "python",
   "nbconvert_exporter": "python",
   "pygments_lexer": "ipython3",
   "version": "3.10.9"
  }
 },
 "nbformat": 4,
 "nbformat_minor": 5
}
