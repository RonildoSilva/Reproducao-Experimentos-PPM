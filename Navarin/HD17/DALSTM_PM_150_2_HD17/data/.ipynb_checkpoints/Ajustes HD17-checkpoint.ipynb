{
 "cells": [
  {
   "cell_type": "code",
   "execution_count": 16,
   "id": "c19506ad",
   "metadata": {},
   "outputs": [],
   "source": [
    "import pandas as pd"
   ]
  },
  {
   "cell_type": "code",
   "execution_count": 17,
   "id": "155219bb",
   "metadata": {},
   "outputs": [],
   "source": [
    "df = pd.read_csv('Helpdesk2017_anonimyzed_original.csv')"
   ]
  },
  {
   "cell_type": "code",
   "execution_count": 18,
   "id": "1639a74e",
   "metadata": {},
   "outputs": [
    {
     "data": {
      "text/plain": [
       "Index(['Case ID', 'Activity', 'Resource', 'Complete Timestamp',\n",
       "       'Variant index', 'customer', 'product', 'responsible_section',\n",
       "       'seriousness_2', 'service_level', 'service_type', 'support_section',\n",
       "       'workgroup'],\n",
       "      dtype='object')"
      ]
     },
     "execution_count": 18,
     "metadata": {},
     "output_type": "execute_result"
    }
   ],
   "source": [
    "df.columns"
   ]
  },
  {
   "cell_type": "code",
   "execution_count": 23,
   "id": "8ce7d1ed",
   "metadata": {},
   "outputs": [],
   "source": [
    "df['Case ID'] = df['Case ID'].astype('category').cat.codes"
   ]
  },
  {
   "cell_type": "code",
   "execution_count": 24,
   "id": "d597dea7",
   "metadata": {},
   "outputs": [],
   "source": [
    "df = df[['Case ID', 'Activity', 'Complete Timestamp', 'Resource']]"
   ]
  },
  {
   "cell_type": "code",
   "execution_count": 25,
   "id": "8dce0a95",
   "metadata": {},
   "outputs": [],
   "source": [
    "df.to_csv('Helpdesk2017_anonimyzed.csv', index=False)"
   ]
  },
  {
   "cell_type": "code",
   "execution_count": 26,
   "id": "73657b93",
   "metadata": {},
   "outputs": [
    {
     "data": {
      "text/plain": [
       "Index(['Case ID', 'Activity', 'Complete Timestamp', 'Resource'], dtype='object')"
      ]
     },
     "execution_count": 26,
     "metadata": {},
     "output_type": "execute_result"
    }
   ],
   "source": [
    "df.columns"
   ]
  },
  {
   "cell_type": "code",
   "execution_count": null,
   "id": "7c8e421d",
   "metadata": {},
   "outputs": [],
   "source": []
  }
 ],
 "metadata": {
  "kernelspec": {
   "display_name": "Python 3 (ipykernel)",
   "language": "python",
   "name": "python3"
  },
  "language_info": {
   "codemirror_mode": {
    "name": "ipython",
    "version": 3
   },
   "file_extension": ".py",
   "mimetype": "text/x-python",
   "name": "python",
   "nbconvert_exporter": "python",
   "pygments_lexer": "ipython3",
   "version": "3.10.9"
  }
 },
 "nbformat": 4,
 "nbformat_minor": 5
}
