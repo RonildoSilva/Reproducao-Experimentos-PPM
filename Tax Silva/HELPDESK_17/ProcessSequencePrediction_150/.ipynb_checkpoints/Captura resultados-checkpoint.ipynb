{
 "cells": [
  {
   "cell_type": "code",
   "execution_count": null,
   "id": "5fd515a6",
   "metadata": {},
   "outputs": [],
   "source": [
    "import pandas as pd"
   ]
  },
  {
   "cell_type": "code",
   "execution_count": null,
   "id": "dc0539f8",
   "metadata": {},
   "outputs": [],
   "source": [
    "df = pd.read_csv('code/output_files/results/suffix_and_remaining_time_helpdesk_sorted.csv')"
   ]
  },
  {
   "cell_type": "markdown",
   "id": "93f15dd8",
   "metadata": {},
   "source": [
    "All prefixes"
   ]
  },
  {
   "cell_type": "code",
   "execution_count": null,
   "id": "c2be188d",
   "metadata": {},
   "outputs": [],
   "source": [
    "df.columns"
   ]
  },
  {
   "cell_type": "code",
   "execution_count": null,
   "id": "5bd39203",
   "metadata": {},
   "outputs": [],
   "source": [
    "df['Prefix length'].unique()"
   ]
  },
  {
   "cell_type": "code",
   "execution_count": null,
   "id": "60a98d38",
   "metadata": {},
   "outputs": [],
   "source": []
  },
  {
   "cell_type": "code",
   "execution_count": null,
   "id": "14943d80",
   "metadata": {},
   "outputs": [],
   "source": [
    "df['MAE_DAYS'] = df['MAE'] / 86400 "
   ]
  },
  {
   "cell_type": "code",
   "execution_count": null,
   "id": "bb4a025e",
   "metadata": {},
   "outputs": [],
   "source": [
    "len(df['CaseID'].unique())"
   ]
  },
  {
   "cell_type": "code",
   "execution_count": null,
   "id": "a495463f",
   "metadata": {},
   "outputs": [],
   "source": [
    "df['MAE_DAYS'].mean()"
   ]
  },
  {
   "cell_type": "markdown",
   "id": "40865488",
   "metadata": {},
   "source": [
    "2 Prefix"
   ]
  },
  {
   "cell_type": "code",
   "execution_count": null,
   "id": "985fd9f0",
   "metadata": {},
   "outputs": [],
   "source": [
    "prefixes = df['Prefix length'].unique().tolist()\n",
    "\n",
    "for prefix_size in prefixes:\n",
    "    df_local = df[df['Prefix length'] == 2]\n",
    "    df_local['MAE_DAYS'] = df_local['MAE'] / 86400 \n",
    "    print(prefix_size, df_local['MAE_DAYS'].mean())"
   ]
  },
  {
   "cell_type": "code",
   "execution_count": null,
   "id": "b91e0683",
   "metadata": {},
   "outputs": [],
   "source": []
  },
  {
   "cell_type": "code",
   "execution_count": null,
   "id": "64021fb3",
   "metadata": {},
   "outputs": [],
   "source": []
  }
 ],
 "metadata": {
  "kernelspec": {
   "display_name": "Python 3 (ipykernel)",
   "language": "python",
   "name": "python3"
  },
  "language_info": {
   "codemirror_mode": {
    "name": "ipython",
    "version": 3
   },
   "file_extension": ".py",
   "mimetype": "text/x-python",
   "name": "python",
   "nbconvert_exporter": "python",
   "pygments_lexer": "ipython3",
   "version": "3.10.9"
  }
 },
 "nbformat": 4,
 "nbformat_minor": 5
}
