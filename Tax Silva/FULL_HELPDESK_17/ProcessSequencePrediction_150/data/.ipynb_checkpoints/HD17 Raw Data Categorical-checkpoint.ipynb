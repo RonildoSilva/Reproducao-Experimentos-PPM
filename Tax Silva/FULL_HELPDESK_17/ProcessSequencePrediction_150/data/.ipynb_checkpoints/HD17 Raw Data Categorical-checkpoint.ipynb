{
 "cells": [
  {
   "cell_type": "code",
   "execution_count": 1,
   "id": "5de83000",
   "metadata": {},
   "outputs": [],
   "source": [
    "import warnings\n",
    "warnings.filterwarnings('ignore')"
   ]
  },
  {
   "cell_type": "code",
   "execution_count": 2,
   "id": "ef18ff8b",
   "metadata": {},
   "outputs": [],
   "source": [
    "import os\n",
    "import pandas as pd\n",
    "import math\n",
    "import numpy as np"
   ]
  },
  {
   "cell_type": "markdown",
   "id": "71598fa7",
   "metadata": {},
   "source": [
    "Get sorted cases id"
   ]
  },
  {
   "cell_type": "code",
   "execution_count": 3,
   "id": "4a63568d",
   "metadata": {},
   "outputs": [],
   "source": [
    "import wget\n",
    "import os.path"
   ]
  },
  {
   "cell_type": "code",
   "execution_count": 4,
   "id": "0bbf1be1",
   "metadata": {},
   "outputs": [],
   "source": [
    "df_final = pd.read_csv('helpdesk_sorted_original.csv')"
   ]
  },
  {
   "cell_type": "code",
   "execution_count": 5,
   "id": "fff2e84a",
   "metadata": {},
   "outputs": [
    {
     "data": {
      "text/plain": [
       "Index(['CaseID', 'Activity', 'CompleteTimestamp'], dtype='object')"
      ]
     },
     "execution_count": 5,
     "metadata": {},
     "output_type": "execute_result"
    }
   ],
   "source": [
    "df_final.columns"
   ]
  },
  {
   "cell_type": "code",
   "execution_count": null,
   "id": "72918ec9",
   "metadata": {},
   "outputs": [],
   "source": [
    "df_final['Activity'].astype(\"category\")\n"
   ]
  },
  {
   "cell_type": "code",
   "execution_count": 6,
   "id": "8e71f71b",
   "metadata": {},
   "outputs": [
    {
     "data": {
      "text/html": [
       "<div>\n",
       "<style scoped>\n",
       "    .dataframe tbody tr th:only-of-type {\n",
       "        vertical-align: middle;\n",
       "    }\n",
       "\n",
       "    .dataframe tbody tr th {\n",
       "        vertical-align: top;\n",
       "    }\n",
       "\n",
       "    .dataframe thead th {\n",
       "        text-align: right;\n",
       "    }\n",
       "</style>\n",
       "<table border=\"1\" class=\"dataframe\">\n",
       "  <thead>\n",
       "    <tr style=\"text-align: right;\">\n",
       "      <th></th>\n",
       "      <th>CaseID</th>\n",
       "      <th>Activity</th>\n",
       "      <th>CompleteTimestamp</th>\n",
       "    </tr>\n",
       "  </thead>\n",
       "  <tbody>\n",
       "    <tr>\n",
       "      <th>0</th>\n",
       "      <td>2222</td>\n",
       "      <td>Assign seriousness</td>\n",
       "      <td>2010-10-29 10:14:06</td>\n",
       "    </tr>\n",
       "    <tr>\n",
       "      <th>1</th>\n",
       "      <td>2222</td>\n",
       "      <td>Take in charge ticket</td>\n",
       "      <td>2010-11-03 16:16:11</td>\n",
       "    </tr>\n",
       "    <tr>\n",
       "      <th>2</th>\n",
       "      <td>2222</td>\n",
       "      <td>Resolve ticket</td>\n",
       "      <td>2010-11-03 16:21:17</td>\n",
       "    </tr>\n",
       "    <tr>\n",
       "      <th>3</th>\n",
       "      <td>2222</td>\n",
       "      <td>Closed</td>\n",
       "      <td>2010-11-30 11:20:18</td>\n",
       "    </tr>\n",
       "    <tr>\n",
       "      <th>4</th>\n",
       "      <td>3333</td>\n",
       "      <td>Assign seriousness</td>\n",
       "      <td>2010-12-15 14:31:53</td>\n",
       "    </tr>\n",
       "  </tbody>\n",
       "</table>\n",
       "</div>"
      ],
      "text/plain": [
       "   CaseID               Activity    CompleteTimestamp\n",
       "0    2222     Assign seriousness  2010-10-29 10:14:06\n",
       "1    2222  Take in charge ticket  2010-11-03 16:16:11\n",
       "2    2222         Resolve ticket  2010-11-03 16:21:17\n",
       "3    2222                 Closed  2010-11-30 11:20:18\n",
       "4    3333     Assign seriousness  2010-12-15 14:31:53"
      ]
     },
     "execution_count": 6,
     "metadata": {},
     "output_type": "execute_result"
    }
   ],
   "source": [
    "df_final.head()"
   ]
  },
  {
   "cell_type": "code",
   "execution_count": 7,
   "id": "2af9d596",
   "metadata": {},
   "outputs": [],
   "source": [
    "sorted_time_cases = df_final.sort_values('CompleteTimestamp')['CaseID'].drop_duplicates().values"
   ]
  },
  {
   "cell_type": "code",
   "execution_count": 8,
   "id": "36ef69bd",
   "metadata": {},
   "outputs": [
    {
     "data": {
      "text/plain": [
       "(21232, 3)"
      ]
     },
     "execution_count": 8,
     "metadata": {},
     "output_type": "execute_result"
    }
   ],
   "source": [
    "df_final.shape"
   ]
  },
  {
   "cell_type": "code",
   "execution_count": 34,
   "id": "0196e9c0",
   "metadata": {},
   "outputs": [
    {
     "data": {
      "text/plain": [
       "Index(['CaseID', 'ActivityID', 'CompleteTimestamp'], dtype='object')"
      ]
     },
     "execution_count": 34,
     "metadata": {},
     "output_type": "execute_result"
    }
   ],
   "source": [
    "df_final.columns"
   ]
  },
  {
   "cell_type": "code",
   "execution_count": 35,
   "id": "75bc9c79",
   "metadata": {},
   "outputs": [
    {
     "data": {
      "text/plain": [
       "array([1, 8, 6, 3, 9, 2, 4, 5, 7])"
      ]
     },
     "execution_count": 35,
     "metadata": {},
     "output_type": "execute_result"
    }
   ],
   "source": [
    "df_final['ActivityID'].unique()"
   ]
  },
  {
   "cell_type": "markdown",
   "id": "4b979f37",
   "metadata": {},
   "source": [
    "Example:"
   ]
  },
  {
   "cell_type": "code",
   "execution_count": 36,
   "id": "350aa592",
   "metadata": {},
   "outputs": [
    {
     "data": {
      "text/html": [
       "<div>\n",
       "<style scoped>\n",
       "    .dataframe tbody tr th:only-of-type {\n",
       "        vertical-align: middle;\n",
       "    }\n",
       "\n",
       "    .dataframe tbody tr th {\n",
       "        vertical-align: top;\n",
       "    }\n",
       "\n",
       "    .dataframe thead th {\n",
       "        text-align: right;\n",
       "    }\n",
       "</style>\n",
       "<table border=\"1\" class=\"dataframe\">\n",
       "  <thead>\n",
       "    <tr style=\"text-align: right;\">\n",
       "      <th></th>\n",
       "      <th>CaseID</th>\n",
       "      <th>ActivityID</th>\n",
       "      <th>CompleteTimestamp</th>\n",
       "    </tr>\n",
       "  </thead>\n",
       "  <tbody>\n",
       "    <tr>\n",
       "      <th>0</th>\n",
       "      <td>2</td>\n",
       "      <td>1</td>\n",
       "      <td>2012-04-03 16:55:38</td>\n",
       "    </tr>\n",
       "    <tr>\n",
       "      <th>1</th>\n",
       "      <td>2</td>\n",
       "      <td>8</td>\n",
       "      <td>2012-04-03 16:55:53</td>\n",
       "    </tr>\n",
       "    <tr>\n",
       "      <th>2</th>\n",
       "      <td>2</td>\n",
       "      <td>6</td>\n",
       "      <td>2012-04-05 17:15:52</td>\n",
       "    </tr>\n",
       "    <tr>\n",
       "      <th>3</th>\n",
       "      <td>3</td>\n",
       "      <td>1</td>\n",
       "      <td>2010-10-29 18:14:06</td>\n",
       "    </tr>\n",
       "    <tr>\n",
       "      <th>4</th>\n",
       "      <td>3</td>\n",
       "      <td>8</td>\n",
       "      <td>2010-11-04 01:16:11</td>\n",
       "    </tr>\n",
       "    <tr>\n",
       "      <th>5</th>\n",
       "      <td>3</td>\n",
       "      <td>6</td>\n",
       "      <td>2010-11-04 01:21:17</td>\n",
       "    </tr>\n",
       "    <tr>\n",
       "      <th>6</th>\n",
       "      <td>4</td>\n",
       "      <td>1</td>\n",
       "      <td>2010-12-15 23:31:53</td>\n",
       "    </tr>\n",
       "    <tr>\n",
       "      <th>7</th>\n",
       "      <td>4</td>\n",
       "      <td>8</td>\n",
       "      <td>2010-12-16 17:01:07</td>\n",
       "    </tr>\n",
       "    <tr>\n",
       "      <th>8</th>\n",
       "      <td>4</td>\n",
       "      <td>6</td>\n",
       "      <td>2010-12-16 17:08:19</td>\n",
       "    </tr>\n",
       "  </tbody>\n",
       "</table>\n",
       "</div>"
      ],
      "text/plain": [
       "   CaseID  ActivityID    CompleteTimestamp\n",
       "0       2           1  2012-04-03 16:55:38\n",
       "1       2           8  2012-04-03 16:55:53\n",
       "2       2           6  2012-04-05 17:15:52\n",
       "3       3           1  2010-10-29 18:14:06\n",
       "4       3           8  2010-11-04 01:16:11\n",
       "5       3           6  2010-11-04 01:21:17\n",
       "6       4           1  2010-12-15 23:31:53\n",
       "7       4           8  2010-12-16 17:01:07\n",
       "8       4           6  2010-12-16 17:08:19"
      ]
     },
     "execution_count": 36,
     "metadata": {},
     "output_type": "execute_result"
    }
   ],
   "source": [
    "df_final[['CaseID', 'ActivityID', 'CompleteTimestamp']].head(9)"
   ]
  },
  {
   "cell_type": "code",
   "execution_count": 37,
   "id": "5efacce9",
   "metadata": {},
   "outputs": [],
   "source": [
    "number_cases = len(df_final['CaseID'].unique())"
   ]
  },
  {
   "cell_type": "code",
   "execution_count": 38,
   "id": "a7dd81dd",
   "metadata": {},
   "outputs": [
    {
     "data": {
      "text/plain": [
       "3804"
      ]
     },
     "execution_count": 38,
     "metadata": {},
     "output_type": "execute_result"
    }
   ],
   "source": [
    "number_cases"
   ]
  },
  {
   "cell_type": "markdown",
   "id": "20b59ece",
   "metadata": {},
   "source": [
    "Spliting data (train, test, validation)"
   ]
  },
  {
   "cell_type": "code",
   "execution_count": 39,
   "id": "c70ad54f",
   "metadata": {},
   "outputs": [],
   "source": [
    "from sklearn.model_selection import train_test_split\n",
    "\n",
    "train_cases, test_cases  = train_test_split(sorted_time_cases, test_size=0.4, \n",
    "                                            shuffle=False, \n",
    "                                            random_state=42\n",
    "                                           )\n",
    "\n",
    "test_cases, val_cases  = train_test_split(test_cases, test_size=0.5, \n",
    "                                            shuffle=False, \n",
    "                                            random_state=42\n",
    "                                           )"
   ]
  },
  {
   "cell_type": "code",
   "execution_count": 40,
   "id": "714f2ec7",
   "metadata": {},
   "outputs": [
    {
     "data": {
      "text/plain": [
       "(2282, 761, 761)"
      ]
     },
     "execution_count": 40,
     "metadata": {},
     "output_type": "execute_result"
    }
   ],
   "source": [
    "len(train_cases), len(test_cases), len(val_cases)"
   ]
  },
  {
   "cell_type": "code",
   "execution_count": 41,
   "id": "27f42c8a",
   "metadata": {},
   "outputs": [
    {
     "data": {
      "text/plain": [
       "0.599894847528917"
      ]
     },
     "execution_count": 41,
     "metadata": {},
     "output_type": "execute_result"
    }
   ],
   "source": [
    "len(train_cases) / number_cases"
   ]
  },
  {
   "cell_type": "markdown",
   "id": "cbc79acb",
   "metadata": {},
   "source": [
    "Dataframes creation"
   ]
  },
  {
   "cell_type": "code",
   "execution_count": 42,
   "id": "02f36b57",
   "metadata": {},
   "outputs": [],
   "source": [
    "df_train = df_final[df_final['CaseID'].isin(train_cases)].reset_index().drop(['index'], axis=1)\n",
    "df_test = df_final[df_final['CaseID'].isin(test_cases)].reset_index().drop(['index'], axis=1)\n",
    "df_val = df_final[df_final['CaseID'].isin(val_cases)].reset_index().drop(['index'], axis=1)"
   ]
  },
  {
   "cell_type": "code",
   "execution_count": 43,
   "id": "258ef12d",
   "metadata": {},
   "outputs": [
    {
     "data": {
      "text/plain": [
       "(8749, 3)"
      ]
     },
     "execution_count": 43,
     "metadata": {},
     "output_type": "execute_result"
    }
   ],
   "source": [
    "df_train.shape"
   ]
  },
  {
   "cell_type": "markdown",
   "id": "90332c6a",
   "metadata": {},
   "source": [
    "Overriding cases checking"
   ]
  },
  {
   "cell_type": "code",
   "execution_count": 44,
   "id": "4d4e8f67",
   "metadata": {},
   "outputs": [
    {
     "name": "stdout",
     "output_type": "stream",
     "text": [
      "set() set() set()\n"
     ]
    }
   ],
   "source": [
    "print(\n",
    "    set(test_cases).intersection(set(train_cases)),\n",
    "    set(test_cases).intersection(set(val_cases)),\n",
    "    set(train_cases).intersection(set(val_cases))\n",
    ")"
   ]
  },
  {
   "cell_type": "code",
   "execution_count": 45,
   "id": "47663d71",
   "metadata": {},
   "outputs": [],
   "source": [
    "df_sorted = pd.concat([df_train, df_val, df_test])"
   ]
  },
  {
   "cell_type": "code",
   "execution_count": 46,
   "id": "66ccc2f5",
   "metadata": {},
   "outputs": [
    {
     "data": {
      "text/html": [
       "<div>\n",
       "<style scoped>\n",
       "    .dataframe tbody tr th:only-of-type {\n",
       "        vertical-align: middle;\n",
       "    }\n",
       "\n",
       "    .dataframe tbody tr th {\n",
       "        vertical-align: top;\n",
       "    }\n",
       "\n",
       "    .dataframe thead th {\n",
       "        text-align: right;\n",
       "    }\n",
       "</style>\n",
       "<table border=\"1\" class=\"dataframe\">\n",
       "  <thead>\n",
       "    <tr style=\"text-align: right;\">\n",
       "      <th></th>\n",
       "      <th>CaseID</th>\n",
       "      <th>ActivityID</th>\n",
       "      <th>CompleteTimestamp</th>\n",
       "    </tr>\n",
       "  </thead>\n",
       "  <tbody>\n",
       "    <tr>\n",
       "      <th>0</th>\n",
       "      <td>3</td>\n",
       "      <td>1</td>\n",
       "      <td>2010-10-29 18:14:06</td>\n",
       "    </tr>\n",
       "    <tr>\n",
       "      <th>1</th>\n",
       "      <td>3</td>\n",
       "      <td>8</td>\n",
       "      <td>2010-11-04 01:16:11</td>\n",
       "    </tr>\n",
       "    <tr>\n",
       "      <th>2</th>\n",
       "      <td>3</td>\n",
       "      <td>6</td>\n",
       "      <td>2010-11-04 01:21:17</td>\n",
       "    </tr>\n",
       "    <tr>\n",
       "      <th>3</th>\n",
       "      <td>4</td>\n",
       "      <td>1</td>\n",
       "      <td>2010-12-15 23:31:53</td>\n",
       "    </tr>\n",
       "    <tr>\n",
       "      <th>4</th>\n",
       "      <td>4</td>\n",
       "      <td>8</td>\n",
       "      <td>2010-12-16 17:01:07</td>\n",
       "    </tr>\n",
       "  </tbody>\n",
       "</table>\n",
       "</div>"
      ],
      "text/plain": [
       "   CaseID  ActivityID    CompleteTimestamp\n",
       "0       3           1  2010-10-29 18:14:06\n",
       "1       3           8  2010-11-04 01:16:11\n",
       "2       3           6  2010-11-04 01:21:17\n",
       "3       4           1  2010-12-15 23:31:53\n",
       "4       4           8  2010-12-16 17:01:07"
      ]
     },
     "execution_count": 46,
     "metadata": {},
     "output_type": "execute_result"
    }
   ],
   "source": [
    "df_sorted.head()"
   ]
  },
  {
   "cell_type": "code",
   "execution_count": 47,
   "id": "e217918a",
   "metadata": {},
   "outputs": [],
   "source": [
    "df_sorted.to_csv('helpdesk_sorted.csv', index=False)"
   ]
  },
  {
   "cell_type": "code",
   "execution_count": null,
   "id": "a9926e34",
   "metadata": {
    "scrolled": true
   },
   "outputs": [],
   "source": []
  },
  {
   "cell_type": "markdown",
   "id": "345ccaad",
   "metadata": {},
   "source": [
    "Statistical analisys"
   ]
  },
  {
   "cell_type": "code",
   "execution_count": null,
   "id": "60c0a20c",
   "metadata": {},
   "outputs": [],
   "source": []
  },
  {
   "cell_type": "code",
   "execution_count": null,
   "id": "8bed3718",
   "metadata": {},
   "outputs": [],
   "source": []
  },
  {
   "cell_type": "code",
   "execution_count": null,
   "id": "99c3ca7a",
   "metadata": {},
   "outputs": [],
   "source": []
  }
 ],
 "metadata": {
  "kernelspec": {
   "display_name": "Python 3 (ipykernel)",
   "language": "python",
   "name": "python3"
  },
  "language_info": {
   "codemirror_mode": {
    "name": "ipython",
    "version": 3
   },
   "file_extension": ".py",
   "mimetype": "text/x-python",
   "name": "python",
   "nbconvert_exporter": "python",
   "pygments_lexer": "ipython3",
   "version": "3.10.9"
  }
 },
 "nbformat": 4,
 "nbformat_minor": 5
}
