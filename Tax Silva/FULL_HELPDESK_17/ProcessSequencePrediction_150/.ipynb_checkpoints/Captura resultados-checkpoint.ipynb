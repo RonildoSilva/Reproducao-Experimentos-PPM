{
 "cells": [
  {
   "cell_type": "code",
   "execution_count": 1,
   "id": "5fd515a6",
   "metadata": {},
   "outputs": [],
   "source": [
    "import pandas as pd"
   ]
  },
  {
   "cell_type": "code",
   "execution_count": 2,
   "id": "dc0539f8",
   "metadata": {},
   "outputs": [],
   "source": [
    "df = pd.read_csv('code/output_files/results/suffix_and_remaining_time_helpdesk_sorted.csv')"
   ]
  },
  {
   "cell_type": "markdown",
   "id": "93f15dd8",
   "metadata": {},
   "source": [
    "All prefixes"
   ]
  },
  {
   "cell_type": "code",
   "execution_count": 3,
   "id": "c2be188d",
   "metadata": {},
   "outputs": [
    {
     "data": {
      "text/plain": [
       "Index(['CaseID', 'Prefix length', 'Groud truth', 'Predicted', 'Levenshtein',\n",
       "       'Damerau', 'Jaccard', 'Ground truth times', 'Predicted times', 'RMSE',\n",
       "       'MAE'],\n",
       "      dtype='object')"
      ]
     },
     "execution_count": 3,
     "metadata": {},
     "output_type": "execute_result"
    }
   ],
   "source": [
    "df.columns"
   ]
  },
  {
   "cell_type": "code",
   "execution_count": 4,
   "id": "5bd39203",
   "metadata": {},
   "outputs": [
    {
     "data": {
      "text/plain": [
       "array([ 2,  3,  4,  5,  6,  7,  8,  9, 10, 11, 12, 13])"
      ]
     },
     "execution_count": 4,
     "metadata": {},
     "output_type": "execute_result"
    }
   ],
   "source": [
    "df['Prefix length'].unique()"
   ]
  },
  {
   "cell_type": "code",
   "execution_count": null,
   "id": "60a98d38",
   "metadata": {},
   "outputs": [],
   "source": []
  },
  {
   "cell_type": "code",
   "execution_count": 5,
   "id": "14943d80",
   "metadata": {},
   "outputs": [],
   "source": [
    "df['MAE_DAYS'] = df['MAE'] / 86400 "
   ]
  },
  {
   "cell_type": "code",
   "execution_count": 6,
   "id": "bb4a025e",
   "metadata": {},
   "outputs": [
    {
     "data": {
      "text/plain": [
       "1518"
      ]
     },
     "execution_count": 6,
     "metadata": {},
     "output_type": "execute_result"
    }
   ],
   "source": [
    "len(df['CaseID'].unique())"
   ]
  },
  {
   "cell_type": "code",
   "execution_count": 7,
   "id": "a495463f",
   "metadata": {},
   "outputs": [
    {
     "data": {
      "text/plain": [
       "62.603779654628696"
      ]
     },
     "execution_count": 7,
     "metadata": {},
     "output_type": "execute_result"
    }
   ],
   "source": [
    "df['MAE_DAYS'].mean()"
   ]
  },
  {
   "cell_type": "markdown",
   "id": "40865488",
   "metadata": {},
   "source": [
    "2 Prefix"
   ]
  },
  {
   "cell_type": "code",
   "execution_count": 8,
   "id": "985fd9f0",
   "metadata": {},
   "outputs": [
    {
     "name": "stdout",
     "output_type": "stream",
     "text": [
      "2 69.43054797344116\n",
      "3 69.43054797344116\n",
      "4 69.43054797344116\n",
      "5 69.43054797344116\n",
      "6 69.43054797344116\n",
      "7 69.43054797344116\n",
      "8 69.43054797344116\n",
      "9 69.43054797344116\n",
      "10 69.43054797344116\n",
      "11 69.43054797344116\n",
      "12 69.43054797344116\n",
      "13 69.43054797344116\n"
     ]
    },
    {
     "name": "stderr",
     "output_type": "stream",
     "text": [
      "/tmp/ipykernel_31608/583911426.py:5: SettingWithCopyWarning: \n",
      "A value is trying to be set on a copy of a slice from a DataFrame.\n",
      "Try using .loc[row_indexer,col_indexer] = value instead\n",
      "\n",
      "See the caveats in the documentation: https://pandas.pydata.org/pandas-docs/stable/user_guide/indexing.html#returning-a-view-versus-a-copy\n",
      "  df_local['MAE_DAYS'] = df_local['MAE'] / 86400\n"
     ]
    }
   ],
   "source": [
    "prefixes = df['Prefix length'].unique().tolist()\n",
    "\n",
    "for prefix_size in prefixes:\n",
    "    df_local = df[df['Prefix length'] == 2]\n",
    "    df_local['MAE_DAYS'] = df_local['MAE'] / 86400 \n",
    "    print(prefix_size, df_local['MAE_DAYS'].mean())"
   ]
  },
  {
   "cell_type": "code",
   "execution_count": null,
   "id": "b91e0683",
   "metadata": {},
   "outputs": [],
   "source": []
  },
  {
   "cell_type": "code",
   "execution_count": null,
   "id": "64021fb3",
   "metadata": {},
   "outputs": [],
   "source": []
  }
 ],
 "metadata": {
  "kernelspec": {
   "display_name": "Python 3 (ipykernel)",
   "language": "python",
   "name": "python3"
  },
  "language_info": {
   "codemirror_mode": {
    "name": "ipython",
    "version": 3
   },
   "file_extension": ".py",
   "mimetype": "text/x-python",
   "name": "python",
   "nbconvert_exporter": "python",
   "pygments_lexer": "ipython3",
   "version": "3.10.9"
  }
 },
 "nbformat": 4,
 "nbformat_minor": 5
}
