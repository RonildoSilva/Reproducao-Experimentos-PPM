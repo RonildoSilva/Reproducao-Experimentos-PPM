{
 "cells": [
  {
   "cell_type": "code",
   "execution_count": 23,
   "id": "5fd515a6",
   "metadata": {},
   "outputs": [],
   "source": [
    "import pandas as pd"
   ]
  },
  {
   "cell_type": "code",
   "execution_count": 24,
   "id": "dc0539f8",
   "metadata": {},
   "outputs": [],
   "source": [
    "df = pd.read_csv('code/output_files/results/suffix_and_remaining_time_helpdesk.csv')"
   ]
  },
  {
   "cell_type": "markdown",
   "id": "93f15dd8",
   "metadata": {},
   "source": [
    "All prefixes"
   ]
  },
  {
   "cell_type": "code",
   "execution_count": 25,
   "id": "c2be188d",
   "metadata": {},
   "outputs": [
    {
     "data": {
      "text/plain": [
       "Index(['CaseID', 'Prefix length', 'Groud truth', 'Predicted', 'Levenshtein',\n",
       "       'Damerau', 'Jaccard', 'Ground truth times', 'Predicted times', 'RMSE',\n",
       "       'MAE'],\n",
       "      dtype='object')"
      ]
     },
     "execution_count": 25,
     "metadata": {},
     "output_type": "execute_result"
    }
   ],
   "source": [
    "df.columns"
   ]
  },
  {
   "cell_type": "code",
   "execution_count": 26,
   "id": "60a98d38",
   "metadata": {},
   "outputs": [
    {
     "data": {
      "text/plain": [
       "array([ 2,  3,  4,  5,  6,  7,  8,  9, 10, 11])"
      ]
     },
     "execution_count": 26,
     "metadata": {},
     "output_type": "execute_result"
    }
   ],
   "source": [
    "df['Prefix length'].unique()"
   ]
  },
  {
   "cell_type": "code",
   "execution_count": 27,
   "id": "14943d80",
   "metadata": {},
   "outputs": [],
   "source": [
    "df['MAE_DAYS'] = df['MAE'] / 86400 "
   ]
  },
  {
   "cell_type": "code",
   "execution_count": 28,
   "id": "bb4a025e",
   "metadata": {},
   "outputs": [
    {
     "data": {
      "text/plain": [
       "1200"
      ]
     },
     "execution_count": 28,
     "metadata": {},
     "output_type": "execute_result"
    }
   ],
   "source": [
    "len(df['CaseID'].unique())"
   ]
  },
  {
   "cell_type": "code",
   "execution_count": 29,
   "id": "a495463f",
   "metadata": {},
   "outputs": [
    {
     "data": {
      "text/plain": [
       "6.3602955931384235"
      ]
     },
     "execution_count": 29,
     "metadata": {},
     "output_type": "execute_result"
    }
   ],
   "source": [
    "df['MAE_DAYS'].mean()"
   ]
  },
  {
   "cell_type": "markdown",
   "id": "40865488",
   "metadata": {},
   "source": [
    "2 Prefix"
   ]
  },
  {
   "cell_type": "code",
   "execution_count": 14,
   "id": "45c51fa4",
   "metadata": {},
   "outputs": [],
   "source": [
    "df_2 = df[df['Prefix length'] == 2]"
   ]
  },
  {
   "cell_type": "code",
   "execution_count": 15,
   "id": "0f95f527",
   "metadata": {},
   "outputs": [
    {
     "name": "stderr",
     "output_type": "stream",
     "text": [
      "/tmp/ipykernel_15863/2715615364.py:1: SettingWithCopyWarning: \n",
      "A value is trying to be set on a copy of a slice from a DataFrame.\n",
      "Try using .loc[row_indexer,col_indexer] = value instead\n",
      "\n",
      "See the caveats in the documentation: https://pandas.pydata.org/pandas-docs/stable/user_guide/indexing.html#returning-a-view-versus-a-copy\n",
      "  df_2['MAE_div'] = df_2['MAE'] / 86400\n"
     ]
    }
   ],
   "source": [
    "df_2['MAE_div'] = df_2['MAE'] / 86400 "
   ]
  },
  {
   "cell_type": "code",
   "execution_count": 16,
   "id": "25c6ea49",
   "metadata": {},
   "outputs": [
    {
     "data": {
      "text/plain": [
       "(1200, 13)"
      ]
     },
     "execution_count": 16,
     "metadata": {},
     "output_type": "execute_result"
    }
   ],
   "source": [
    "df_2.shape"
   ]
  },
  {
   "cell_type": "code",
   "execution_count": 17,
   "id": "05be518b",
   "metadata": {},
   "outputs": [
    {
     "data": {
      "text/html": [
       "<div>\n",
       "<style scoped>\n",
       "    .dataframe tbody tr th:only-of-type {\n",
       "        vertical-align: middle;\n",
       "    }\n",
       "\n",
       "    .dataframe tbody tr th {\n",
       "        vertical-align: top;\n",
       "    }\n",
       "\n",
       "    .dataframe thead th {\n",
       "        text-align: right;\n",
       "    }\n",
       "</style>\n",
       "<table border=\"1\" class=\"dataframe\">\n",
       "  <thead>\n",
       "    <tr style=\"text-align: right;\">\n",
       "      <th></th>\n",
       "      <th>CaseID</th>\n",
       "      <th>Prefix length</th>\n",
       "      <th>Groud truth</th>\n",
       "      <th>Predicted</th>\n",
       "      <th>Levenshtein</th>\n",
       "      <th>Damerau</th>\n",
       "      <th>Jaccard</th>\n",
       "      <th>Ground truth times</th>\n",
       "      <th>Predicted times</th>\n",
       "      <th>RMSE</th>\n",
       "      <th>MAE</th>\n",
       "      <th>MAE_DAYS</th>\n",
       "      <th>MAE_div</th>\n",
       "    </tr>\n",
       "  </thead>\n",
       "  <tbody>\n",
       "    <tr>\n",
       "      <th>0</th>\n",
       "      <td>3087</td>\n",
       "      <td>2</td>\n",
       "      <td>§</td>\n",
       "      <td>§</td>\n",
       "      <td>1.0</td>\n",
       "      <td>1.0</td>\n",
       "      <td>1.000000</td>\n",
       "      <td>256462</td>\n",
       "      <td>57368.484303</td>\n",
       "      <td>NaN</td>\n",
       "      <td>1.990935e+05</td>\n",
       "      <td>2.304323</td>\n",
       "      <td>2.304323</td>\n",
       "    </tr>\n",
       "    <tr>\n",
       "      <th>1</th>\n",
       "      <td>3088</td>\n",
       "      <td>2</td>\n",
       "      <td>©ª©§</td>\n",
       "      <td>©§</td>\n",
       "      <td>0.5</td>\n",
       "      <td>0.5</td>\n",
       "      <td>0.666667</td>\n",
       "      <td>1888363</td>\n",
       "      <td>81642.392738</td>\n",
       "      <td>NaN</td>\n",
       "      <td>1.806721e+06</td>\n",
       "      <td>20.911118</td>\n",
       "      <td>20.911118</td>\n",
       "    </tr>\n",
       "    <tr>\n",
       "      <th>2</th>\n",
       "      <td>3089</td>\n",
       "      <td>2</td>\n",
       "      <td>ª§</td>\n",
       "      <td>§</td>\n",
       "      <td>0.5</td>\n",
       "      <td>0.5</td>\n",
       "      <td>0.500000</td>\n",
       "      <td>520705</td>\n",
       "      <td>57684.145846</td>\n",
       "      <td>NaN</td>\n",
       "      <td>4.630209e+05</td>\n",
       "      <td>5.359038</td>\n",
       "      <td>5.359038</td>\n",
       "    </tr>\n",
       "    <tr>\n",
       "      <th>3</th>\n",
       "      <td>3090</td>\n",
       "      <td>2</td>\n",
       "      <td>§</td>\n",
       "      <td>§</td>\n",
       "      <td>1.0</td>\n",
       "      <td>1.0</td>\n",
       "      <td>1.000000</td>\n",
       "      <td>1800</td>\n",
       "      <td>43758.443891</td>\n",
       "      <td>NaN</td>\n",
       "      <td>4.195844e+04</td>\n",
       "      <td>0.485630</td>\n",
       "      <td>0.485630</td>\n",
       "    </tr>\n",
       "    <tr>\n",
       "      <th>4</th>\n",
       "      <td>3091</td>\n",
       "      <td>2</td>\n",
       "      <td>§§</td>\n",
       "      <td>§</td>\n",
       "      <td>0.5</td>\n",
       "      <td>0.5</td>\n",
       "      <td>1.000000</td>\n",
       "      <td>511776</td>\n",
       "      <td>42257.365116</td>\n",
       "      <td>NaN</td>\n",
       "      <td>4.695186e+05</td>\n",
       "      <td>5.434243</td>\n",
       "      <td>5.434243</td>\n",
       "    </tr>\n",
       "  </tbody>\n",
       "</table>\n",
       "</div>"
      ],
      "text/plain": [
       "   CaseID  Prefix length Groud truth Predicted  Levenshtein  Damerau  \\\n",
       "0    3087              2           §         §          1.0      1.0   \n",
       "1    3088              2        ©ª©§        ©§          0.5      0.5   \n",
       "2    3089              2          ª§         §          0.5      0.5   \n",
       "3    3090              2           §         §          1.0      1.0   \n",
       "4    3091              2          §§         §          0.5      0.5   \n",
       "\n",
       "    Jaccard  Ground truth times  Predicted times  RMSE           MAE  \\\n",
       "0  1.000000              256462     57368.484303   NaN  1.990935e+05   \n",
       "1  0.666667             1888363     81642.392738   NaN  1.806721e+06   \n",
       "2  0.500000              520705     57684.145846   NaN  4.630209e+05   \n",
       "3  1.000000                1800     43758.443891   NaN  4.195844e+04   \n",
       "4  1.000000              511776     42257.365116   NaN  4.695186e+05   \n",
       "\n",
       "    MAE_DAYS    MAE_div  \n",
       "0   2.304323   2.304323  \n",
       "1  20.911118  20.911118  \n",
       "2   5.359038   5.359038  \n",
       "3   0.485630   0.485630  \n",
       "4   5.434243   5.434243  "
      ]
     },
     "execution_count": 17,
     "metadata": {},
     "output_type": "execute_result"
    }
   ],
   "source": [
    "df_2.head()"
   ]
  },
  {
   "cell_type": "code",
   "execution_count": 18,
   "id": "32a06b5c",
   "metadata": {},
   "outputs": [
    {
     "data": {
      "text/plain": [
       "1200"
      ]
     },
     "execution_count": 18,
     "metadata": {},
     "output_type": "execute_result"
    }
   ],
   "source": [
    "len(df_2['CaseID'].unique())"
   ]
  },
  {
   "cell_type": "code",
   "execution_count": 19,
   "id": "ef34d76e",
   "metadata": {},
   "outputs": [
    {
     "data": {
      "text/plain": [
       "6.21434521561122"
      ]
     },
     "execution_count": 19,
     "metadata": {},
     "output_type": "execute_result"
    }
   ],
   "source": [
    "df_2['MAE_div'].mean()"
   ]
  },
  {
   "cell_type": "code",
   "execution_count": null,
   "id": "b91e0683",
   "metadata": {},
   "outputs": [],
   "source": []
  },
  {
   "cell_type": "code",
   "execution_count": null,
   "id": "64021fb3",
   "metadata": {},
   "outputs": [],
   "source": []
  }
 ],
 "metadata": {
  "kernelspec": {
   "display_name": "Python 3 (ipykernel)",
   "language": "python",
   "name": "python3"
  },
  "language_info": {
   "codemirror_mode": {
    "name": "ipython",
    "version": 3
   },
   "file_extension": ".py",
   "mimetype": "text/x-python",
   "name": "python",
   "nbconvert_exporter": "python",
   "pygments_lexer": "ipython3",
   "version": "3.10.9"
  }
 },
 "nbformat": 4,
 "nbformat_minor": 5
}
