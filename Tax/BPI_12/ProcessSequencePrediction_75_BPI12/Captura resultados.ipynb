{
 "cells": [
  {
   "cell_type": "code",
   "execution_count": 1,
   "id": "5fd515a6",
   "metadata": {},
   "outputs": [],
   "source": [
    "import pandas as pd"
   ]
  },
  {
   "cell_type": "code",
   "execution_count": 9,
   "id": "dc0539f8",
   "metadata": {},
   "outputs": [],
   "source": [
    "df = pd.read_csv('code/output_files/results/suffix_and_remaining_time_bpi_12_w.csv')"
   ]
  },
  {
   "cell_type": "markdown",
   "id": "93f15dd8",
   "metadata": {},
   "source": [
    "All prefixes"
   ]
  },
  {
   "cell_type": "code",
   "execution_count": 10,
   "id": "c2be188d",
   "metadata": {},
   "outputs": [
    {
     "data": {
      "text/plain": [
       "Index(['CaseID', 'Prefix length', 'Groud truth', 'Predicted', 'Levenshtein',\n",
       "       'Damerau', 'Jaccard', 'Ground truth times', 'Predicted times', 'RMSE',\n",
       "       'MAE'],\n",
       "      dtype='object')"
      ]
     },
     "execution_count": 10,
     "metadata": {},
     "output_type": "execute_result"
    }
   ],
   "source": [
    "df.columns"
   ]
  },
  {
   "cell_type": "code",
   "execution_count": 11,
   "id": "5bd39203",
   "metadata": {},
   "outputs": [
    {
     "data": {
      "text/plain": [
       "array([2])"
      ]
     },
     "execution_count": 11,
     "metadata": {},
     "output_type": "execute_result"
    }
   ],
   "source": [
    "df['Prefix length'].unique()"
   ]
  },
  {
   "cell_type": "code",
   "execution_count": null,
   "id": "60a98d38",
   "metadata": {},
   "outputs": [],
   "source": []
  },
  {
   "cell_type": "code",
   "execution_count": 12,
   "id": "14943d80",
   "metadata": {},
   "outputs": [],
   "source": [
    "df['MAE_DAYS'] = df['MAE'] / 86400 "
   ]
  },
  {
   "cell_type": "code",
   "execution_count": 13,
   "id": "bb4a025e",
   "metadata": {},
   "outputs": [
    {
     "data": {
      "text/plain": [
       "1566"
      ]
     },
     "execution_count": 13,
     "metadata": {},
     "output_type": "execute_result"
    }
   ],
   "source": [
    "len(df['CaseID'].unique())"
   ]
  },
  {
   "cell_type": "code",
   "execution_count": 14,
   "id": "a495463f",
   "metadata": {},
   "outputs": [
    {
     "data": {
      "text/plain": [
       "106.79537305341336"
      ]
     },
     "execution_count": 14,
     "metadata": {},
     "output_type": "execute_result"
    }
   ],
   "source": [
    "df['MAE_DAYS'].mean()"
   ]
  },
  {
   "cell_type": "markdown",
   "id": "40865488",
   "metadata": {},
   "source": [
    "2 Prefix"
   ]
  },
  {
   "cell_type": "code",
   "execution_count": 15,
   "id": "985fd9f0",
   "metadata": {},
   "outputs": [
    {
     "name": "stdout",
     "output_type": "stream",
     "text": [
      "2 106.79537305341336\n"
     ]
    }
   ],
   "source": [
    "prefixes = df['Prefix length'].unique().tolist()\n",
    "\n",
    "for prefix_size in prefixes:\n",
    "    df_local = df[df['Prefix length'] == 2]\n",
    "    df_local['MAE_DAYS'] = df_local['MAE'] / 86400 \n",
    "    print(prefix_size, df_local['MAE_DAYS'].mean())"
   ]
  },
  {
   "cell_type": "code",
   "execution_count": null,
   "id": "b91e0683",
   "metadata": {},
   "outputs": [],
   "source": []
  },
  {
   "cell_type": "code",
   "execution_count": null,
   "id": "64021fb3",
   "metadata": {},
   "outputs": [],
   "source": []
  },
  {
   "cell_type": "code",
   "execution_count": null,
   "id": "3f77cb2c",
   "metadata": {},
   "outputs": [],
   "source": []
  },
  {
   "cell_type": "code",
   "execution_count": null,
   "id": "6e661b29",
   "metadata": {},
   "outputs": [],
   "source": []
  }
 ],
 "metadata": {
  "kernelspec": {
   "display_name": "Python 3 (ipykernel)",
   "language": "python",
   "name": "python3"
  },
  "language_info": {
   "codemirror_mode": {
    "name": "ipython",
    "version": 3
   },
   "file_extension": ".py",
   "mimetype": "text/x-python",
   "name": "python",
   "nbconvert_exporter": "python",
   "pygments_lexer": "ipython3",
   "version": "3.10.9"
  }
 },
 "nbformat": 4,
 "nbformat_minor": 5
}
